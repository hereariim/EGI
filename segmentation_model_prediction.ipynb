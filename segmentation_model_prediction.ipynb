{
 "cells": [
  {
   "cell_type": "markdown",
   "id": "b71edcee",
   "metadata": {},
   "source": [
    "# MODEL DE SEGMENTATION D'IMAGES (pour la prédiction)\n",
    "\n",
    "Ce script présente un modèle pour segmenter les images RGB. Il est composé de 4 parties :\n",
    "\n",
    "1- Importation des librairies\n",
    "\n",
    "2- Importation de l'image au format RGB [Input]\n",
    "\n",
    "3- Traitement de l'image par le modèle segmentation [Processing]\n",
    "\n",
    "4- Exporation de l'image segmentée au format binaire [Output]\n",
    "\n",
    "En particulier l'étape de traitement (étape 3) est composée en trois sous-parties :\n",
    "\n",
    "i) Redimension de l'image en 256 x 256 pixel\n",
    "\n",
    "ii) Segmentation de l'image par l'algorithme U-NET\n",
    "\n",
    "iii) Application du seuil de segmentation optimisé sur l'image\n",
    "\n",
    "Structure du répertoire : \n",
    "\n",
    "- Répertoire :\n",
    "    - segmentation_model_prediciton.ipynb\n",
    "    - best_model_FL_BCE_0_5.h5\n",
    "    - input :\n",
    "        - sample1.jpg\n",
    "        - sample2.jpg\n",
    "    - output :\n",
    "        - output_sample1.jpg\n",
    "        - output_sample2.jpg"
   ]
  },
  {
   "cell_type": "markdown",
   "id": "f15d220a",
   "metadata": {},
   "source": [
    "## Importation des librairies"
   ]
  },
  {
   "cell_type": "markdown",
   "id": "5522a48f",
   "metadata": {},
   "source": [
    "Librairies manquantes : executer le code suivant \n",
    "\n",
    "!pip install librairie"
   ]
  },
  {
   "cell_type": "code",
   "execution_count": null,
   "id": "1a6ea4c9",
   "metadata": {},
   "outputs": [],
   "source": [
    "!pip install focal_loss"
   ]
  },
  {
   "cell_type": "markdown",
   "id": "f3e67411",
   "metadata": {},
   "source": [
    "Importation des librairies"
   ]
  },
  {
   "cell_type": "code",
   "execution_count": 24,
   "id": "f354c06e",
   "metadata": {},
   "outputs": [],
   "source": [
    "import sys\n",
    "import numpy\n",
    "import tensorflow as tf\n",
    "from tensorflow import keras\n",
    "from focal_loss import BinaryFocalLoss\n",
    "from tensorflow.keras import backend as K\n",
    "import numpy as np\n",
    "import cv2\n",
    "from skimage.io import imread, imshow, imread_collection, concatenate_images\n",
    "from skimage.transform import resize\n",
    "import os\n",
    "from tqdm import tqdm\n",
    "from skimage.io import imread"
   ]
  },
  {
   "cell_type": "markdown",
   "id": "77af2f35",
   "metadata": {},
   "source": [
    "## Fonctions"
   ]
  },
  {
   "cell_type": "markdown",
   "id": "8eb51eda",
   "metadata": {},
   "source": [
    "La fonction redimension() prends en entrée une image RGB et retourne quatre objets :\n",
    "\n",
    "- X : l'image au dimension 256 x 256 pixel\n",
    "\n",
    "- size_ : taille original de l'image"
   ]
  },
  {
   "cell_type": "code",
   "execution_count": 30,
   "id": "0df7bc80",
   "metadata": {},
   "outputs": [],
   "source": [
    "def redimension(image):\n",
    "    X = np.zeros((1,256,256,3),dtype=np.uint8)\n",
    "    #img = cv2.imread(image,cv2.COLOR_BGR2RGB)\n",
    "    img = imread(image)[:,:,:3]\n",
    "    size_ = img.shape\n",
    "    img = img[:,:,:3]\n",
    "    X[0] = resize(img, (256, 256), mode='constant', preserve_range=True)\n",
    "    return X,size_\n",
    "\n",
    "def dice_coefficient(y_true, y_pred):\n",
    "    eps = 1e-6\n",
    "    y_true_f = K.flatten(y_true)\n",
    "    y_pred_f = K.flatten(y_pred)\n",
    "    intersection = K.sum(y_true_f * y_pred_f)\n",
    "    return (2. * intersection) / (K.sum(y_true_f * y_true_f) + K.sum(y_pred_f * y_pred_f) + eps) #eps pour éviter la division par 0 "
   ]
  },
  {
   "cell_type": "markdown",
   "id": "052dff61",
   "metadata": {},
   "source": [
    "## Algorithme"
   ]
  },
  {
   "cell_type": "markdown",
   "id": "898f3c64",
   "metadata": {},
   "source": [
    "### Input"
   ]
  },
  {
   "cell_type": "markdown",
   "id": "0e971233",
   "metadata": {},
   "source": [
    "Prends les images à prédire à partir du dossier input\n",
    "L'utilisateur doit penser à ranger ses images dans le dossier input"
   ]
  },
  {
   "cell_type": "code",
   "execution_count": 31,
   "id": "5cbbc6cb",
   "metadata": {},
   "outputs": [
    {
     "name": "stdout",
     "output_type": "stream",
     "text": [
      "Input done\n"
     ]
    }
   ],
   "source": [
    "image_sample = os.listdir(\"./input\")\n",
    "print(\"Input done\")"
   ]
  },
  {
   "cell_type": "markdown",
   "id": "6195589d",
   "metadata": {},
   "source": [
    "### Redimension en 256 x 256 pixels"
   ]
  },
  {
   "cell_type": "code",
   "execution_count": 32,
   "id": "779d77d3",
   "metadata": {},
   "outputs": [
    {
     "name": "stderr",
     "output_type": "stream",
     "text": [
      "Reshaped...: 100%|██████████████████████████████████████████████████████████████████████████| 7/7 [00:11<00:00,  1.58s/it]"
     ]
    },
    {
     "name": "stdout",
     "output_type": "stream",
     "text": [
      "Reshaped done\n"
     ]
    },
    {
     "name": "stderr",
     "output_type": "stream",
     "text": [
      "\n"
     ]
    }
   ],
   "source": [
    "image_sample_reshaped = []\n",
    "size_original = []\n",
    "\n",
    "for sample in tqdm(image_sample, total = len(image_sample),\n",
    "              desc =\"Reshaped...\"):\n",
    "    image_reshaped,size_ = redimension(\"./input/\"+sample)\n",
    "    image_sample_reshaped.append(image_reshaped)\n",
    "    x,y,z = size_\n",
    "    size_original.append((x,y))\n",
    "print(\"Reshaped done\")"
   ]
  },
  {
   "cell_type": "markdown",
   "id": "35bdc88d",
   "metadata": {},
   "source": [
    "### Segmentation de l'image par l'algorithme U-NET pré-entrainé"
   ]
  },
  {
   "cell_type": "code",
   "execution_count": 33,
   "id": "a85ce89b",
   "metadata": {},
   "outputs": [
    {
     "name": "stdout",
     "output_type": "stream",
     "text": [
      "Model imported\n",
      "\n",
      "Prediction done\n",
      "\n"
     ]
    }
   ],
   "source": [
    "model_new = tf.keras.models.load_model(\"best_model_FL_BCE_0_5.h5\",custom_objects={'dice_coefficient': dice_coefficient})\n",
    "print(\"Model imported\\n\")\n",
    "\n",
    "image_prediction = []\n",
    "for sample in image_sample_reshaped:\n",
    "    prediction = model_new.predict(sample)\n",
    "    \n",
    "    #Application du seuil de segmentation optimisé\n",
    "    preds_test_t = (prediction > 0.3)\n",
    "    image_prediction.append(preds_test_t)\n",
    "print(\"Prediction done\\n\")"
   ]
  },
  {
   "cell_type": "markdown",
   "id": "7cc78a3c",
   "metadata": {},
   "source": [
    "### Output"
   ]
  },
  {
   "cell_type": "markdown",
   "id": "e8fb5e41",
   "metadata": {},
   "source": [
    "Enregistre les images segmentés dans le dossier output sous le nom output_*nom de l'image*"
   ]
  },
  {
   "cell_type": "code",
   "execution_count": 34,
   "id": "1942c20d",
   "metadata": {},
   "outputs": [
    {
     "name": "stdout",
     "output_type": "stream",
     "text": [
      "Exportation done\n"
     ]
    }
   ],
   "source": [
    "image_output = []\n",
    "for sample,i,name in zip(image_prediction,range(len(size_original)),image_sample):\n",
    "    preds_test_t = resize(sample[0,:,:,0], size_original[i], mode='constant', preserve_range=True)\n",
    "    cv2.imwrite(\"./output/output_\"+name,preds_test_t*255)\n",
    "print(\"Exportation done\")"
   ]
  },
  {
   "cell_type": "code",
   "execution_count": null,
   "id": "5fda2782",
   "metadata": {},
   "outputs": [],
   "source": []
  }
 ],
 "metadata": {
  "kernelspec": {
   "display_name": "Python 3",
   "language": "python",
   "name": "python3"
  },
  "language_info": {
   "codemirror_mode": {
    "name": "ipython",
    "version": 3
   },
   "file_extension": ".py",
   "mimetype": "text/x-python",
   "name": "python",
   "nbconvert_exporter": "python",
   "pygments_lexer": "ipython3",
   "version": "3.8.8"
  }
 },
 "nbformat": 4,
 "nbformat_minor": 5
}
